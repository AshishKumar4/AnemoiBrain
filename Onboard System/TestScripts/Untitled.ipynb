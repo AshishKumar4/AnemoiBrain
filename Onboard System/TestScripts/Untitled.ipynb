{
 "cells": [
  {
   "cell_type": "code",
   "execution_count": 42,
   "metadata": {},
   "outputs": [],
   "source": [
    "import serial\n",
    "import time"
   ]
  },
  {
   "cell_type": "code",
   "execution_count": 355,
   "metadata": {},
   "outputs": [],
   "source": [
    "# Enable Serial Communication\n",
    "ser = serial.Serial(\"/dev/ttyUSB0\", baudrate=115200, timeout=1)"
   ]
  },
  {
   "cell_type": "code",
   "execution_count": 356,
   "metadata": {},
   "outputs": [],
   "source": [
    "def getResult(ser, n=4):\n",
    "    ser.readline() # \\r\\n\n",
    "    o = ser.readline() # Actual output\n",
    "    while n > 2:\n",
    "        ser.readline();\n",
    "        n -= 1\n",
    "    return o\n",
    "\n",
    "class gps_sim908:\n",
    "    def __init__(self, sfile):\n",
    "        self.sfile = sfile\n",
    "        self.sfile.write(b'ATE0'+b'\\r')      # Disable the Echo\n",
    "        self.sfile.flush()\n",
    "        time.sleep(1)\n",
    "        self.sfile.read_all()\n",
    "        \n",
    "        self.sfile.write(b'AT+CGPSPWR?' + b'\\r')\n",
    "        self.sfile.flush()\n",
    "        o = getResult(self.sfile)\n",
    "        print(o)\n",
    "        \n",
    "        if b'CGPSPWR: 1' not in o:\n",
    "            print('Powering on GPS')\n",
    "            self.sfile.write(b'AT+CGPSPWR=1' + b'\\r')\n",
    "            self.sfile.flush()\n",
    "            print(getResult(self.sfile))\n",
    "            time.sleep(1)\n",
    "\n",
    "            self.sfile.write(b'AT+CGPSRST=0' + b'\\r')\n",
    "            self.sfile.flush()\n",
    "            print(getResult(self.sfile))\n",
    "            time.sleep(1)\n",
    "            \n",
    "        self.sfile.write(b'AT+CGPSINF=0' + b'\\r')\n",
    "        self.sfile.flush()\n",
    "        print(getResult(self.sfile, 3))\n",
    "        \n",
    "        self.sfile.write(b'AT+CGPSSTATUS?' + b'\\r')\n",
    "        self.sfile.flush()\n",
    "        o = getResult(self.sfile)\n",
    "        print(o)\n",
    "        \n",
    "        while b'Fix' not in o:\n",
    "            print('Attempting to get GPS Fix...')\n",
    "            time.sleep(10)\n",
    "            self.sfile.write(b'AT+CGPSSTATUS? ' + b'\\r')\n",
    "            self.sfile.flush()\n",
    "            o = getResult(self.sfile)\n",
    "            print(o)\n",
    "        print('Got GPS Fix Successfully!')\n",
    "    def getRaw(self, inf = b'32'):\n",
    "        self.sfile.write(b'AT+CGPSINF=' + inf + b'\\r')\n",
    "        #self.sfile.flush()\n",
    "        o = getResult(self.sfile, 3)\n",
    "        return o\n",
    "        "
   ]
  },
  {
   "cell_type": "code",
   "execution_count": 357,
   "metadata": {},
   "outputs": [
    {
     "name": "stdout",
     "output_type": "stream",
     "text": [
      "b'+CGPSPWR: 1\\r\\n'\n",
      "b'0,7909.751296,1258.317141,160.486588,20190902101057.000,4347,13,0.000000,339.348022\\r\\n'\n",
      "b'+CGPSSTATUS: Location 3D Fix\\r\\n'\n",
      "Got GPS Fix Successfully!\n"
     ]
    }
   ],
   "source": [
    "g = gps_sim908(ser)"
   ]
  },
  {
   "cell_type": "code",
   "execution_count": 359,
   "metadata": {},
   "outputs": [
    {
     "data": {
      "text/plain": [
       "b'4,1258.317141,N,7909.751296,E,101102.000,A,A\\r\\n'"
      ]
     },
     "execution_count": 359,
     "metadata": {},
     "output_type": "execute_result"
    }
   ],
   "source": [
    "g.getRaw(b'4')"
   ]
  },
  {
   "cell_type": "code",
   "execution_count": 360,
   "metadata": {},
   "outputs": [
    {
     "name": "stdout",
     "output_type": "stream",
     "text": [
      "16.03750991821289\n",
      "Frequency =  62.35381958294889\n"
     ]
    }
   ],
   "source": [
    "n = 1000\n",
    "l = range(0,n)\n",
    "j = time.time()\n",
    "for i in l:\n",
    "    g.getRaw(b'4')\n",
    "v = time.time() - j\n",
    "print(v)\n",
    "print(\"Frequency = \", n/v)"
   ]
  },
  {
   "cell_type": "code",
   "execution_count": 259,
   "metadata": {},
   "outputs": [],
   "source": [
    "h = b'0,7909.746663,1258.403408,76.240837,20190902090034.000,89,6,0.000000,0.000000\\r\\n'"
   ]
  },
  {
   "cell_type": "code",
   "execution_count": 261,
   "metadata": {},
   "outputs": [
    {
     "data": {
      "text/plain": [
       "'0,7909.746663,1258.403408,76.240837,20190902090034.000,89,6,0.000000,0.000000\\r\\n'"
      ]
     },
     "execution_count": 261,
     "metadata": {},
     "output_type": "execute_result"
    }
   ],
   "source": [
    "h.decode('ascii')"
   ]
  },
  {
   "cell_type": "code",
   "execution_count": 338,
   "metadata": {},
   "outputs": [
    {
     "name": "stdout",
     "output_type": "stream",
     "text": [
      "b'\\r\\n'\n"
     ]
    }
   ],
   "source": [
    "ser.write(b'AT+IPR=115200'+b'\\r')      # Disable the Echo\n",
    "rcv = ser.readline()\n",
    "print(rcv)\n",
    "time.sleep(1)\n"
   ]
  },
  {
   "cell_type": "code",
   "execution_count": 339,
   "metadata": {},
   "outputs": [
    {
     "data": {
      "text/plain": [
       "b'OK\\r\\n'"
      ]
     },
     "execution_count": 339,
     "metadata": {},
     "output_type": "execute_result"
    }
   ],
   "source": [
    "ser.read_all()"
   ]
  },
  {
   "cell_type": "code",
   "execution_count": 272,
   "metadata": {},
   "outputs": [
    {
     "name": "stdout",
     "output_type": "stream",
     "text": [
      "b'\\r\\n'\n",
      "b'+CGPSSTATUS: Location 3D Fix\\r\\n'\n",
      "b'\\r\\n'\n"
     ]
    },
    {
     "data": {
      "text/plain": [
       "b'OK\\r\\n'"
      ]
     },
     "execution_count": 272,
     "metadata": {},
     "output_type": "execute_result"
    }
   ],
   "source": [
    "ser.write(b'AT+CGPSINF=32'+b'\\r')\n",
    "ser.flush()\n",
    "#ser.flushOutput()\n",
    "rcv = ser.readline()\n",
    "print(rcv)\n",
    "rcv = ser.readline()\n",
    "print(rcv)\n",
    "print(ser.readline())\n",
    "ser.readline()"
   ]
  },
  {
   "cell_type": "code",
   "execution_count": 231,
   "metadata": {},
   "outputs": [
    {
     "data": {
      "text/plain": [
       "b''"
      ]
     },
     "execution_count": 231,
     "metadata": {},
     "output_type": "execute_result"
    }
   ],
   "source": [
    "ser.read_all"
   ]
  },
  {
   "cell_type": "code",
   "execution_count": null,
   "metadata": {},
   "outputs": [],
   "source": [
    "ser."
   ]
  }
 ],
 "metadata": {
  "kernelspec": {
   "display_name": "Python 3",
   "language": "python",
   "name": "python3"
  },
  "language_info": {
   "codemirror_mode": {
    "name": "ipython",
    "version": 3
   },
   "file_extension": ".py",
   "mimetype": "text/x-python",
   "name": "python",
   "nbconvert_exporter": "python",
   "pygments_lexer": "ipython3",
   "version": "3.7.4"
  }
 },
 "nbformat": 4,
 "nbformat_minor": 2
}
